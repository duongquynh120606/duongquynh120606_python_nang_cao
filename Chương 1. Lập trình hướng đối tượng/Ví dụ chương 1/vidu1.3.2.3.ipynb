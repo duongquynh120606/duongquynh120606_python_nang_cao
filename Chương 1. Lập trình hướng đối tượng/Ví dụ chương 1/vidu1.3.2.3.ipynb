{
 "cells": [
  {
   "cell_type": "markdown",
   "id": "bed51748",
   "metadata": {},
   "source": [
    "***Ví dụ 1.3.2.3***"
   ]
  },
  {
   "cell_type": "code",
   "execution_count": 7,
   "id": "3dbd815c",
   "metadata": {},
   "outputs": [
    {
     "name": "stdout",
     "output_type": "stream",
     "text": [
      "Tôi là Lớp Cháu, tên của tôi là Cháu C\n",
      "Tôi là Lớp Con, tên của tôi là Bác B\n",
      "Tôi là Lớp Cha, tên của tôi là Ông A\n"
     ]
    }
   ],
   "source": [
    "class LopCha: # Lớp cha\n",
    "  def __init__(self, ten_cha): # Phương thức khởi tạo lớp cha\n",
    "    self.ten_cha = ten_cha # Thuộc tính của lớp cha\n",
    "  def thong_tin(self): # Phương thức của lớp cha\n",
    "    print(\"Tôi là Lớp Cha, tên của tôi là\", self.ten_cha)\n",
    "class LopCon(LopCha): # Lớp con kế thừa từ lớp cha\n",
    "  def __init__(self, ten_cha, ten_con): # Phương thức khởi tạo lớp con\n",
    " # Gọi hàm khởi tạo của lớp cha để khởi tạo các thuộc tính từ lớp cha\n",
    "    super().__init__(ten_cha) # Gọi hàm khởi tạo của lớp cha\n",
    "    self.ten_con = ten_con # Thuộc tính của lớp con\n",
    "  def thong_tin(self): # Phương thức của lớp con\n",
    "    print(\"Tôi là Lớp Con, tên của tôi là\", self.ten_con) # In ra tên của lớp con\n",
    "# Gọi phương thức của lớp cha bằng cách sử dụng super()\n",
    "    super().thong_tin() # Gọi phương thức của lớp cha\n",
    "class LopChau(LopCon): # Lớp cháu kế thừa từ lớp con\n",
    "  def __init__(self, ten_cha, ten_con, ten_chau):\n",
    "# Gọi hàm khởi tạo của LopCha và LopCon để khởi tạo các thuộc tính từ LopCha và LopCon\n",
    "    super().__init__(ten_cha, ten_con) # Gọi hàm khởi tạo của lớp con\n",
    "    self.ten_chau = ten_chau # Thuộc tính của lớp cháu\n",
    "  def thong_tin(self): # Phương thức của lớp cháu\n",
    "    print(\"Tôi là Lớp Cháu, tên của tôi là\", self.ten_chau) # In ra tên của lớp cháu\n",
    "    super().thong_tin() # Gọi phương thức của lớp con\n",
    "# Sử dụng các lớp\n",
    "lop_chau = LopChau(\"Ông A\", \"Bác B\", \"Cháu C\") # Tạo đối tượng từ lớp cháu\n",
    "lop_chau.thong_tin() # Gọi phương thức của lớp cháu"
   ]
  },
  {
   "cell_type": "markdown",
   "id": "f71fd2ee",
   "metadata": {},
   "source": []
  }
 ],
 "metadata": {
  "kernelspec": {
   "display_name": "Python 3",
   "language": "python",
   "name": "python3"
  },
  "language_info": {
   "codemirror_mode": {
    "name": "ipython",
    "version": 3
   },
   "file_extension": ".py",
   "mimetype": "text/x-python",
   "name": "python",
   "nbconvert_exporter": "python",
   "pygments_lexer": "ipython3",
   "version": "3.13.7"
  }
 },
 "nbformat": 4,
 "nbformat_minor": 5
}
