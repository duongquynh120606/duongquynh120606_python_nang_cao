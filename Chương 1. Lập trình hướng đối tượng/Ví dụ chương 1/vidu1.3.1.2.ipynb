{
 "cells": [
  {
   "cell_type": "code",
   "execution_count": 2,
   "id": "374b87fe",
   "metadata": {},
   "outputs": [],
   "source": [
    "class Dog:\n",
    "    def __init__(self, name, size, age, color):\n",
    "        self._name = name      # Protected\n",
    "        self._size = size      # Protected\n",
    "        self.__age = age       # Private\n",
    "        self.__color = color   # Private\n",
    "\n",
    "    # Getter cho age\n",
    "    @property # Phương thức getter cho thuộc tính age\n",
    "    def age(self): # Phương thức getter cho thuộc tính age\n",
    "        print(\"Getter for age called\") # In ra thông báo khi gọi getter\n",
    "        if not hasattr(self, \"_Dog__age\"): # Kiểm tra nếu thuộc tính __age không tồn tại\n",
    "            raise AttributeError(\"Age has been deleted or not set\") # Ném ra lỗi nếu thuộc tính __age không tồn tại\n",
    "        return self.__age # Trả về giá trị của thuộc tính __age\n",
    "\n",
    "    # Setter cho age\n",
    "    @age.setter  # Phương thức setter cho thuộc tính age\n",
    "    def age(self, value): # Phương thức setter cho thuộc tính age\n",
    "        print(\"Setter for age called\") # In ra thông báo khi gọi setter\n",
    "        if value < 0: # Kiểm tra nếu giá trị truyền vào nhỏ hơn 0\n",
    "            raise ValueError(\"Age cannot be negative\") # Ném ra lỗi nếu giá trị truyền vào nhỏ hơn 0\n",
    "        self.__age = value\n",
    "\n",
    "    # Deleter cho age\n",
    "    @age.deleter # Phương thức deleter cho thuộc tính age\n",
    "    def age(self): # Phương thức deleter cho thuộc tính age\n",
    "        print(\"Deleter for age called\") # In ra thông báo khi gọi deleter\n",
    "        if not hasattr(self, \"_Dog__age\"): # Kiểm tra nếu thuộc tính __age không tồn tại\n",
    "            raise AttributeError(\"Age has already been deleted or not set\") # Ném ra lỗi nếu thuộc tính __age không tồn tại\n",
    "        del self.__age # Xóa thuộc tính __age"
   ]
  },
  {
   "cell_type": "code",
   "execution_count": 17,
   "id": "7060c8e8",
   "metadata": {},
   "outputs": [
    {
     "name": "stdout",
     "output_type": "stream",
     "text": [
      "Getter for age called\n",
      "Bull's age is: 2\n",
      "Setter for age called\n",
      "Getter for age called\n",
      "Bull updated age is: 3\n",
      "Deleter for age called\n",
      "Getter for age called\n"
     ]
    },
    {
     "ename": "AttributeError",
     "evalue": "Age has been deleted or not set",
     "output_type": "error",
     "traceback": [
      "\u001b[31m---------------------------------------------------------------------------\u001b[39m",
      "\u001b[31mAttributeError\u001b[39m                            Traceback (most recent call last)",
      "\u001b[36mCell\u001b[39m\u001b[36m \u001b[39m\u001b[32mIn[17]\u001b[39m\u001b[32m, line 15\u001b[39m\n\u001b[32m     12\u001b[39m \u001b[38;5;28;01mdel\u001b[39;00m dog.age                          \u001b[38;5;66;03m# ✔ Xóa thông qua deleter\u001b[39;00m\n\u001b[32m     14\u001b[39m \u001b[38;5;66;03m# Thử truy cập lại sau khi xóa\u001b[39;00m\n\u001b[32m---> \u001b[39m\u001b[32m15\u001b[39m \u001b[38;5;28mprint\u001b[39m(\u001b[33mf\u001b[39m\u001b[33m\"\u001b[39m\u001b[33mBull updated age is: \u001b[39m\u001b[38;5;132;01m{\u001b[39;00m\u001b[43mdog\u001b[49m\u001b[43m.\u001b[49m\u001b[43mage\u001b[49m\u001b[38;5;132;01m}\u001b[39;00m\u001b[33m\"\u001b[39m)   \u001b[38;5;66;03m# ❌ Sẽ báo lỗi AttributeError\u001b[39;00m\n",
      "\u001b[36mCell\u001b[39m\u001b[36m \u001b[39m\u001b[32mIn[2]\u001b[39m\u001b[32m, line 13\u001b[39m, in \u001b[36mDog.age\u001b[39m\u001b[34m(self)\u001b[39m\n\u001b[32m     11\u001b[39m \u001b[38;5;28mprint\u001b[39m(\u001b[33m\"\u001b[39m\u001b[33mGetter for age called\u001b[39m\u001b[33m\"\u001b[39m) \u001b[38;5;66;03m# In ra thông báo khi gọi getter\u001b[39;00m\n\u001b[32m     12\u001b[39m \u001b[38;5;28;01mif\u001b[39;00m \u001b[38;5;129;01mnot\u001b[39;00m \u001b[38;5;28mhasattr\u001b[39m(\u001b[38;5;28mself\u001b[39m, \u001b[33m\"\u001b[39m\u001b[33m_Dog__age\u001b[39m\u001b[33m\"\u001b[39m): \u001b[38;5;66;03m# Kiểm tra nếu thuộc tính __age không tồn tại\u001b[39;00m\n\u001b[32m---> \u001b[39m\u001b[32m13\u001b[39m     \u001b[38;5;28;01mraise\u001b[39;00m \u001b[38;5;167;01mAttributeError\u001b[39;00m(\u001b[33m\"\u001b[39m\u001b[33mAge has been deleted or not set\u001b[39m\u001b[33m\"\u001b[39m) \u001b[38;5;66;03m# Ném ra lỗi nếu thuộc tính __age không tồn tại\u001b[39;00m\n\u001b[32m     14\u001b[39m \u001b[38;5;28;01mreturn\u001b[39;00m \u001b[38;5;28mself\u001b[39m.__age\n",
      "\u001b[31mAttributeError\u001b[39m: Age has been deleted or not set"
     ]
    }
   ],
   "source": [
    "# Ví dụ ứng dụng\n",
    "dog = Dog(\"Bull\", \"large\", 2, \"brown\")\n",
    "\n",
    "# Truy cập như thuộc tính nhờ @property (getter)\n",
    "print(f\"Bull's age is: {dog.age}\")   # ✔ Truy cập thông qua getter\n",
    "\n",
    "# Cập nhật thuộc tính age nhờ @setter\n",
    "dog.age = 3                          # ✔ Cập nhật thông qua setter\n",
    "print(f\"Bull updated age is: {dog.age}\")   # ✔ Truy cập lại qua getter\n",
    "\n",
    "# Xóa thuộc tính age nhờ @deleter\n",
    "del dog.age                          # ✔ Xóa thông qua deleter\n",
    "\n",
    "# Thử truy cập lại sau khi xóa\n",
    "print(f\"Bull updated age is: {dog.age}\")   # ❌ Sẽ báo lỗi AttributeError\n"
   ]
  }
 ],
 "metadata": {
  "kernelspec": {
   "display_name": "Python 3",
   "language": "python",
   "name": "python3"
  },
  "language_info": {
   "codemirror_mode": {
    "name": "ipython",
    "version": 3
   },
   "file_extension": ".py",
   "mimetype": "text/x-python",
   "name": "python",
   "nbconvert_exporter": "python",
   "pygments_lexer": "ipython3",
   "version": "3.13.7"
  }
 },
 "nbformat": 4,
 "nbformat_minor": 5
}
