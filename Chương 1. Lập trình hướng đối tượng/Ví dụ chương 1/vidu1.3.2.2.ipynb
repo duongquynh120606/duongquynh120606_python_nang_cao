{
 "cells": [
  {
   "cell_type": "markdown",
   "id": "2607314c",
   "metadata": {},
   "source": [
    "***Ví dụ 1.3.2.2*** Đa kế thừa"
   ]
  },
  {
   "cell_type": "code",
   "execution_count": 2,
   "id": "7ff72dba",
   "metadata": {},
   "outputs": [
    {
     "name": "stdout",
     "output_type": "stream",
     "text": [
      "Zebra\n",
      "Donkey\n",
      "Zonkey\n",
      "I'm a zebra\n"
     ]
    }
   ],
   "source": [
    "class Zebra: #Lớp cha1\n",
    "  def __init__ (self): # Phương thức khởi tạo lớp cha1\n",
    "    print (\"Zebra\") # Phương thức khởi tạo lớp cha1\n",
    "  def Display(self): # Phương thức lớp cha1\n",
    "    print(\"I'm a zebra\") # Phương thức lớp cha1\n",
    "class Donkey: #Lớp cha2\n",
    "  def __init__(self): # Phương thức khởi tạo lớp cha2\n",
    "      print(\"Donkey\") # Phương thức khởi tạo lớp cha2\n",
    "  def Display(self): # Phương thức lớp cha2\n",
    "    print(\"I'm a donkey\") # Phương thức lớp cha2\n",
    "class Zonkey(Zebra, Donkey): #Lớp con Zonkey kế thừa lớp cha1, cha2 \n",
    "    def __init__(self): # Phương thức khởi tạo lớp con\n",
    "     Zebra.__init__(self)  # Gọi phương thức khởi tạo lớp cha1\n",
    "     Donkey.__init__ (self)  # Gọi phương thức khởi tạo lớp cha2\n",
    "     print(\"Zonkey\") # Phương thức khởi tạo lớp con\n",
    "obj = Zonkey()  # Tạo đối tượng obj từ lớp con Zonkey\n",
    "obj.Display() # Có vấn đề phát sinh khi chạy phương thức này!"
   ]
  }
 ],
 "metadata": {
  "kernelspec": {
   "display_name": "Python 3",
   "language": "python",
   "name": "python3"
  },
  "language_info": {
   "codemirror_mode": {
    "name": "ipython",
    "version": 3
   },
   "file_extension": ".py",
   "mimetype": "text/x-python",
   "name": "python",
   "nbconvert_exporter": "python",
   "pygments_lexer": "ipython3",
   "version": "3.13.7"
  }
 },
 "nbformat": 4,
 "nbformat_minor": 5
}
