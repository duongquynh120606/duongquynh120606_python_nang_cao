{
 "cells": [
  {
   "cell_type": "markdown",
   "id": "1be005fd",
   "metadata": {},
   "source": [
    "***Ví dụ 1.3.1.1.*** Đóng gói dữ liệu trong Python."
   ]
  },
  {
   "cell_type": "code",
   "execution_count": null,
   "id": "6c5515ab",
   "metadata": {},
   "outputs": [],
   "source": [
    "class Dog:\n",
    "# Class attributes\n",
    "  DogCount = 0\n",
    "  def __init__ (self, name, size, age, color): # \n",
    "    self._name = name # \n",
    "    self._size = size # \n",
    "    self.__age = age # \n",
    "    self.__color = color # \n",
    "    Dog.DogCount = Dog.DogCount + 1\n",
    "obj = Dog(\"bull\", \"large\", 2, \"yellow\")\n",
    "print(\"Number of dogs: {}\".format(Dog.DogCount))"
   ]
  }
 ],
 "metadata": {
  "language_info": {
   "name": "python"
  }
 },
 "nbformat": 4,
 "nbformat_minor": 5
}
