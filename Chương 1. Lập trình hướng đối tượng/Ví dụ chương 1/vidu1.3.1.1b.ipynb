{
 "cells": [
  {
   "cell_type": "markdown",
   "id": "a4121a9a",
   "metadata": {},
   "source": [
    "***Ví dụ 1.3.1.1b.*** Minh họa \"protected\""
   ]
  },
  {
   "cell_type": "code",
   "execution_count": 1,
   "id": "f5f54af1",
   "metadata": {},
   "outputs": [],
   "source": [
    "class Dog:\n",
    "    \"\"\"\n",
    "    Minh họa lớp Dog với các thuộc tính protected\n",
    "    \"\"\"\n",
    "    _DogCount = 0  # protected: thuộc tính lớp (giao diện protected)\n",
    "\n",
    "    def __init__(self, name: str, size: str, age: int):\n",
    "        self._name = name     # protected: thuộc tính protected (theo quy ước)\n",
    "        Dog._DogCount += 1    # tăng thuộc tính lớp\n",
    "\n",
    "    def _display(self):  # Phương thức protected\n",
    "        print(f\"Name is a {self._name}\")\n",
    "\n"
   ]
  },
  {
   "cell_type": "code",
   "execution_count": 8,
   "id": "e01f474a",
   "metadata": {},
   "outputs": [
    {
     "ename": "AttributeError",
     "evalue": "'Dog' object has no attribute 'display'",
     "output_type": "error",
     "traceback": [
      "\u001b[31m---------------------------------------------------------------------------\u001b[39m",
      "\u001b[31mAttributeError\u001b[39m                            Traceback (most recent call last)",
      "\u001b[36mCell\u001b[39m\u001b[36m \u001b[39m\u001b[32mIn[8]\u001b[39m\u001b[32m, line 2\u001b[39m\n\u001b[32m      1\u001b[39m d = Dog(\u001b[33m\"\u001b[39m\u001b[33mBull\u001b[39m\u001b[33m\"\u001b[39m, \u001b[33m\"\u001b[39m\u001b[33mlarge\u001b[39m\u001b[33m\"\u001b[39m, \u001b[32m2\u001b[39m)\n\u001b[32m----> \u001b[39m\u001b[32m2\u001b[39m \u001b[43md\u001b[49m\u001b[43m.\u001b[49m\u001b[43mdisplay\u001b[49m() \u001b[38;5;66;03m# Phuong thức không protected: dùng trong lớp \u001b[39;00m\n",
      "\u001b[31mAttributeError\u001b[39m: 'Dog' object has no attribute 'display'"
     ]
    }
   ],
   "source": [
    "d = Dog(\"Bull\", \"large\", 2)\n",
    "d.display() # Phuong thức không protected: dùng trong lớp \n"
   ]
  },
  {
   "cell_type": "code",
   "execution_count": 9,
   "id": "b4920e2e",
   "metadata": {},
   "outputs": [
    {
     "ename": "AttributeError",
     "evalue": "'Dog' object has no attribute 'name'",
     "output_type": "error",
     "traceback": [
      "\u001b[31m---------------------------------------------------------------------------\u001b[39m",
      "\u001b[31mAttributeError\u001b[39m                            Traceback (most recent call last)",
      "\u001b[36mCell\u001b[39m\u001b[36m \u001b[39m\u001b[32mIn[9]\u001b[39m\u001b[32m, line 1\u001b[39m\n\u001b[32m----> \u001b[39m\u001b[32m1\u001b[39m \u001b[38;5;28mprint\u001b[39m(\u001b[43md\u001b[49m\u001b[43m.\u001b[49m\u001b[43mname\u001b[49m)  \u001b[38;5;66;03m# Lỗi: không truy cập được do thuộc tính _name là protected\u001b[39;00m\n",
      "\u001b[31mAttributeError\u001b[39m: 'Dog' object has no attribute 'name'"
     ]
    }
   ],
   "source": [
    "print(d.name)  # Lỗi: không truy cập được do thuộc tính _name là protected"
   ]
  },
  {
   "cell_type": "markdown",
   "id": "c7c1faa7",
   "metadata": {},
   "source": [
    "****PHÁ HOẠI QUY ƯỚC protected****"
   ]
  },
  {
   "cell_type": "code",
   "execution_count": 12,
   "id": "70ec8987",
   "metadata": {},
   "outputs": [
    {
     "name": "stdout",
     "output_type": "stream",
     "text": [
      "Tên chó là : Bull\n"
     ]
    }
   ],
   "source": [
    "print(f\"Tên chó là : {d._name}\")  # Truy cập thuộc tính protected (không nên làm trực tiếp từ bên ngoài)"
   ]
  },
  {
   "cell_type": "code",
   "execution_count": null,
   "id": "59f74d38",
   "metadata": {},
   "outputs": [],
   "source": [
    "print('Number of dogs: ', Dog._DogCount)  # Truy cập thuộc tính lớp (không nên làm trực tiếp từ bên ngoài)"
   ]
  },
  {
   "cell_type": "code",
   "execution_count": 11,
   "id": "d37d016e",
   "metadata": {},
   "outputs": [
    {
     "name": "stdout",
     "output_type": "stream",
     "text": [
      "Name is a Bull\n"
     ]
    }
   ],
   "source": [
    "d = Dog(\"Bull\", \"large\", 2)\n",
    "d._display() # Phuong thức protected: dùng trong lớp"
   ]
  }
 ],
 "metadata": {
  "kernelspec": {
   "display_name": "Python 3",
   "language": "python",
   "name": "python3"
  },
  "language_info": {
   "codemirror_mode": {
    "name": "ipython",
    "version": 3
   },
   "file_extension": ".py",
   "mimetype": "text/x-python",
   "name": "python",
   "nbconvert_exporter": "python",
   "pygments_lexer": "ipython3",
   "version": "3.13.7"
  }
 },
 "nbformat": 4,
 "nbformat_minor": 5
}
