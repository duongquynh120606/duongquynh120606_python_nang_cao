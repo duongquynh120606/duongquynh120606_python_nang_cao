{
 "cells": [
  {
   "cell_type": "markdown",
   "id": "8d67bd15",
   "metadata": {},
   "source": [
    "***Ví dụ 1.3.1.1.a*** Định nghĩa lớp Dog như sau:"
   ]
  },
  {
   "cell_type": "code",
   "execution_count": 1,
   "id": "d448a697",
   "metadata": {},
   "outputs": [],
   "source": [
    "class Dog:\n",
    "    __DogCount = 0 # Thuộc tính lớp - private\n",
    "    def __init__(self, name, size, age, color): # Phương thức khởi tạo\n",
    "        self._name = name     # Thuộc tính đối tượng - protected\n",
    "        self._size = size     # Thuộc tính đối tượng - protected\n",
    "        self.__age = age      # Thuộc tính đối tượng - private\n",
    "        self.__color = color  # Thuộc tính đối tượng - private\n",
    "        Dog.__DogCount += 1   # Tăng số lượng đối tượng Dog\n",
    "\n",
    "obj1 = Dog(\"bull\", \"large\", 2, \"yellow\") # Tạo đối tượng Dog đầu tiên\n",
    "# a. print(\"Number of Dog: {}\".format(Dog._name)) #Lỗi\n",
    "# b. print(\"Dog's Name is {}\".format(obj1._name)) #Ko nên dùng - can thiệp vào 1 đối tượng\n",
    "# c. print(\"Dog's age is {}\".format(obj1.__age)) #Lỗi\n",
    "# d. print(\"Number of Dog: {}\".format(Dog.__DogCount)) #Lỗi\n"
   ]
  }
 ],
 "metadata": {
  "kernelspec": {
   "display_name": "Python 3",
   "language": "python",
   "name": "python3"
  },
  "language_info": {
   "codemirror_mode": {
    "name": "ipython",
    "version": 3
   },
   "file_extension": ".py",
   "mimetype": "text/x-python",
   "name": "python",
   "nbconvert_exporter": "python",
   "pygments_lexer": "ipython3",
   "version": "3.13.7"
  }
 },
 "nbformat": 4,
 "nbformat_minor": 5
}
