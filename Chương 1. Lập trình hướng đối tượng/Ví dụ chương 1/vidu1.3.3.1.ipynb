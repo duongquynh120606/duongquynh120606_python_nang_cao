{
 "cells": [
  {
   "cell_type": "markdown",
   "id": "8ad1fe3c",
   "metadata": {},
   "source": [
    "***Ví dụ 1.3.3.1*** Minh họa đa hình cổ điển"
   ]
  },
  {
   "cell_type": "markdown",
   "id": "b49eb36e",
   "metadata": {},
   "source": []
  },
  {
   "cell_type": "code",
   "execution_count": 3,
   "id": "608cb3fd",
   "metadata": {},
   "outputs": [],
   "source": [
    "#Khai báo lớp chim\n",
    "class Bird: \n",
    "  def flight(self): #Định nghĩa phương thức flight()\n",
    "    print(\"Many birds can fly\") #Phương thức flight() của lớp Bird\n",
    "#Khai báo lớp chim sẻ kế thừa từ lớp Bird\n",
    "class Sparrow(Bird): \n",
    "  def flight(self):#Ghi đè phương thức flight()\n",
    "    print(\"Sparrows can fly\") #Phương thức flight() của lớp Sparrow\n",
    "#Khai báo lớp Đà điểu kế thừa từ lớp Bird\n",
    "class Ostrich(Bird): \n",
    "  def flight(self): #Ghi đè phương thức flight()\n",
    "    print (\"Ostriches cannot fly\") #Phương thức flight() của lớp Ostrich\n"
   ]
  },
  {
   "cell_type": "code",
   "execution_count": 4,
   "id": "e4c31ffe",
   "metadata": {},
   "outputs": [
    {
     "name": "stdout",
     "output_type": "stream",
     "text": [
      "Many birds can fly\n",
      "Sparrows can fly\n",
      "Ostriches cannot fly\n"
     ]
    }
   ],
   "source": [
    "# Ứng dụng đa hình cổ điển\n",
    "obj1 = Bird()\n",
    "obj2 = Sparrow()\n",
    "obj3 = Ostrich()\n",
    "obj1.flight()\n",
    "obj2.flight()\n",
    "obj3.flight()"
   ]
  }
 ],
 "metadata": {
  "kernelspec": {
   "display_name": "Python 3",
   "language": "python",
   "name": "python3"
  },
  "language_info": {
   "codemirror_mode": {
    "name": "ipython",
    "version": 3
   },
   "file_extension": ".py",
   "mimetype": "text/x-python",
   "name": "python",
   "nbconvert_exporter": "python",
   "pygments_lexer": "ipython3",
   "version": "3.13.7"
  }
 },
 "nbformat": 4,
 "nbformat_minor": 5
}
