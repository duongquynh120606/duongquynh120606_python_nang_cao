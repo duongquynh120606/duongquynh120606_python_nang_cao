{
 "cells": [
  {
   "cell_type": "markdown",
   "id": "789c46d1",
   "metadata": {},
   "source": [
    "Ví dụ 1.2.1.10. Minh họa cách sử dụng thuộc tính lớp (class attribute) và phương thức lớp (class method) để theo dõi số lượng đối tượng được tạo từ một lớp."
   ]
  },
  {
   "cell_type": "code",
   "execution_count": 4,
   "id": "adda192f",
   "metadata": {},
   "outputs": [
    {
     "name": "stdout",
     "output_type": "stream",
     "text": [
      " Số lượng đối tượng Dog đã được tạo:  1\n",
      " Số lượng đối tượng Dog đã được tạo:  2\n"
     ]
    }
   ],
   "source": [
    "class Dog:\n",
    "    # Thuộc tính  lớp\n",
    "    DogCount = 0 \n",
    "    def __init__(self, name, size, age, color):\n",
    "        self.name = name # Thuộc tính đối tượng\n",
    "        self.size = size # Thuộc tính đối tượng\n",
    "        self.age = age # Thuộc tính đối tượng\n",
    "        self.color = color # Thuộc tính đối tượng\n",
    "    @classmethod\n",
    "    def CountDog(cls, name, size, age, color): # Phương thức lớp\n",
    "        cls.DogCount = cls.DogCount + 1 # Tăng số lượng đối tượng Dog\n",
    "        return cls(name, size, age, color) # Trả về đối tượng Dog mới tạo\n",
    "    @classmethod\n",
    "    def get_DogCount(cls): # Phương thức lớp\n",
    "        return cls.DogCount # Trả về số lượng đối tượng Dog đã tạo\n",
    "obj = Dog.CountDog(\"bull\", \"large\", 2, \"yellow\") # Tạo đối tượng Dog mới\n",
    "print(\" Số lượng đối tượng Dog đã được tạo: \",Dog.get_DogCount()) # In ra số lượng đối tượng Dog đã tạo\n",
    "obj2 = Dog.CountDog(\"poodle\", \"small\", 1, \"white\") # Tạo đối tượng Dog mới\n",
    "print(\" Số lượng đối tượng Dog đã được tạo: \",Dog.get_DogCount()) # In ra số lượng đối tượng Dog đã tạo"
   ]
  }
 ],
 "metadata": {
  "kernelspec": {
   "display_name": "Python 3",
   "language": "python",
   "name": "python3"
  },
  "language_info": {
   "codemirror_mode": {
    "name": "ipython",
    "version": 3
   },
   "file_extension": ".py",
   "mimetype": "text/x-python",
   "name": "python",
   "nbconvert_exporter": "python",
   "pygments_lexer": "ipython3",
   "version": "3.13.7"
  }
 },
 "nbformat": 4,
 "nbformat_minor": 5
}
