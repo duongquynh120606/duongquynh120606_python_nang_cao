{
 "cells": [
  {
   "cell_type": "code",
   "execution_count": 1,
   "id": "bb547c94",
   "metadata": {},
   "outputs": [
    {
     "name": "stdout",
     "output_type": "stream",
     "text": [
      "I'm Bull\n",
      "I'm going to garden\n"
     ]
    }
   ],
   "source": [
    "class Animal:\n",
    "    \"\"\"Lớp cơ sở (lớp cha)\"\"\"\n",
    "    def __init__(self, name):\n",
    "        self._name = name\n",
    "\n",
    "    def display(self):\n",
    "        \"\"\"Hiển thị tên con vật\"\"\"\n",
    "        print(\"I'm {}\".format(self._name))\n",
    "\n",
    "\n",
    "class Dog(Animal):\n",
    "    \"\"\"Lớp dẫn xuất (lớp con)\"\"\"\n",
    "    def __init__(self, name, size, age, color):\n",
    "        # Gọi hàm khởi tạo của lớp cha\n",
    "        super().__init__(name)\n",
    "        # Thuộc tính riêng của lớp con\n",
    "        self.size = size\n",
    "        self.age = age\n",
    "        self.color = color\n",
    "\n",
    "    def go(self, place):\n",
    "        \"\"\"Phương thức riêng của lớp con\"\"\"\n",
    "        print(\"I'm going to {}\".format(place))\n",
    "\n",
    "\n",
    "# Thử dùng các lớp\n",
    "obj1 = Dog(\"Bull\", \"large\", 2, \"yellow\")\n",
    "obj1.display()       # Gọi phương thức kế thừa từ lớp cha\n",
    "obj1.go(\"garden\")    # Gọi phương thức riêng của lớp con\n"
   ]
  }
 ],
 "metadata": {
  "kernelspec": {
   "display_name": "Python 3",
   "language": "python",
   "name": "python3"
  },
  "language_info": {
   "codemirror_mode": {
    "name": "ipython",
    "version": 3
   },
   "file_extension": ".py",
   "mimetype": "text/x-python",
   "name": "python",
   "nbconvert_exporter": "python",
   "pygments_lexer": "ipython3",
   "version": "3.13.7"
  }
 },
 "nbformat": 4,
 "nbformat_minor": 5
}
