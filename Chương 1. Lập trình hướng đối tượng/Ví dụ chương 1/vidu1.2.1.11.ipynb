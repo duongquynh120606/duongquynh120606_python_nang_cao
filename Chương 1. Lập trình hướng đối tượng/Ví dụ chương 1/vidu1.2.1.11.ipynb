{
 "cells": [
  {
   "cell_type": "markdown",
   "id": "f1b2d569",
   "metadata": {},
   "source": [
    "Ví dụ 1.2.1.11 Phương thức tĩnh."
   ]
  },
  {
   "cell_type": "code",
   "execution_count": 1,
   "id": "dc3c0737",
   "metadata": {},
   "outputs": [
    {
     "name": "stdout",
     "output_type": "stream",
     "text": [
      "Tổng số đối tượng Dog:2\n"
     ]
    }
   ],
   "source": [
    "class Dog:\n",
    " DogCount = 0 # Thuộc tính lớp\n",
    " def __init__(self, name, size, age, color):\n",
    "    self.name = name # Thuộc tính đối tượng\n",
    "    self.size = size # Thuộc tính đối tượng\n",
    "    self.color = color # Thuộc tính đối tượng\n",
    "    Dog.DogCount += 1 # Tăng số lượng đối tượng Dog\n",
    " @staticmethod\n",
    " def Report(): # Phương thức tĩnh\n",
    "    print(\"Tổng số đối tượng Dog:{}\".format(Dog.DogCount)) # In ra số lượng đối tượng Dog đã tạo\n",
    "# Tạo các đối tượng Dog\n",
    "dog1 = Dog(\"Buddy\", \"Medium\", 5, \"Brown\") # Tạo đối tượng Dog đầu tiên\n",
    "dog2 = Dog(\"Max\", \"Small\", 3, \"Black\") # Tạo đối tượng Dog thứ hai\n",
    "# Sử dụng phương thức tĩnh Report() để lấy số lượng đối tượng đã được tạo\n",
    "Dog.Report() # In ra số lượng đối tượng Dog đã tạo"
   ]
  }
 ],
 "metadata": {
  "kernelspec": {
   "display_name": "Python 3",
   "language": "python",
   "name": "python3"
  },
  "language_info": {
   "codemirror_mode": {
    "name": "ipython",
    "version": 3
   },
   "file_extension": ".py",
   "mimetype": "text/x-python",
   "name": "python",
   "nbconvert_exporter": "python",
   "pygments_lexer": "ipython3",
   "version": "3.13.7"
  }
 },
 "nbformat": 4,
 "nbformat_minor": 5
}
