{
 "cells": [
  {
   "cell_type": "markdown",
   "id": "b40365be",
   "metadata": {},
   "source": [
    "***Ví dụ 1.3.3.3*** Minh họa về lỗi khi dùng sai\n"
   ]
  },
  {
   "cell_type": "code",
   "execution_count": null,
   "id": "c928ac8b",
   "metadata": {},
   "outputs": [],
   "source": [
    "#Khai báo lớp chim\n",
    "class Bird: \n",
    "  def flight(self): #Định nghĩa phương thức flight()\n",
    "    print(\"Many birds can fly\")\n",
    "#Khai báo lớp chim sẻ kế thừa từ lớp Bird\n",
    "class Sparrow(Bird): \n",
    "  def flight(self):#Ghi đè phương thức flight()\n",
    "    print(\"Sparrows can fly\")\n",
    "#Khai báo lớp Đà điểu kế thừa từ lớp Bird\n",
    "class Ostrich(Bird): \n",
    "  def flight(self):\n",
    "    print (\"Ostriches cannot fly\")\n",
    "obj1 = Bird()\n",
    "obj2 = Sparrow()\n",
    "obj3 = Ostrich()\n",
    "obj1.flight()\n",
    "obj2.flight()\n",
    "obj3.flight()"
   ]
  }
 ],
 "metadata": {
  "kernelspec": {
   "display_name": "Python 3",
   "language": "python",
   "name": "python3"
  },
  "language_info": {
   "codemirror_mode": {
    "name": "ipython",
    "version": 3
   },
   "file_extension": ".py",
   "mimetype": "text/x-python",
   "name": "python",
   "nbconvert_exporter": "python",
   "pygments_lexer": "ipython3",
   "version": "3.13.7"
  }
 },
 "nbformat": 4,
 "nbformat_minor": 5
}
