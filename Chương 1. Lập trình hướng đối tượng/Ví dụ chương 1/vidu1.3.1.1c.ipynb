{
 "cells": [
  {
   "cell_type": "markdown",
   "id": "76cef257",
   "metadata": {},
   "source": [
    "***Ví dụ 1.3.1.1c*** Minh họa \"private\""
   ]
  },
  {
   "cell_type": "code",
   "execution_count": 1,
   "id": "c9283d9f",
   "metadata": {},
   "outputs": [
    {
     "name": "stdout",
     "output_type": "stream",
     "text": [
      "Dog's age is 5\n"
     ]
    }
   ],
   "source": [
    "class Dog:\n",
    "# Class attributes\n",
    "  __DogCount = 0\n",
    "  def __init__ (self, name, size, age, color): \n",
    "    self._name = name # thuộc tính protected\n",
    "    self._size = size # thuộc tính protected\n",
    "    self.__age = age # thuộc tính private\n",
    "    self.__color = color # thuộc tính private\n",
    "    Dog.__DogCount += 1 # Tăng số lượng chó\n",
    "\n",
    "# Getter method for _name\n",
    "  def get_name(self):  # Phương thức getter cho thuộc tính _name\n",
    "    return self._name # Trả về giá trị của thuộc tính _name\n",
    "    \n",
    "# Getter method for _age\n",
    "  def get_age(self): # Phương thức getter cho thuộc tính _age\n",
    "    return self.__age # Trả về giá trị của thuộc tính _age\n",
    "\n",
    "#Setter method for _age\n",
    "  def set_age(self, new_value): # Phương thức setter cho thuộc tính _age\n",
    "    self.__age = new_value # Gán giá trị mới cho thuộc tính _age\n",
    "obj1 = Dog(\"bull\", \"large\", 2, \"yellow\") # Tạo đối tượng\n",
    "obj1.set_age(5) # Gán giá trị mới cho thuộc tính _age thông qua phương thức setter\n",
    "print(\"Dog's age is {}\".format(obj1.get_age())) # Lấy giá trị của thuộc tính _age thông qua phương thức getter\n"
   ]
  }
 ],
 "metadata": {
  "kernelspec": {
   "display_name": "Python 3",
   "language": "python",
   "name": "python3"
  },
  "language_info": {
   "codemirror_mode": {
    "name": "ipython",
    "version": 3
   },
   "file_extension": ".py",
   "mimetype": "text/x-python",
   "name": "python",
   "nbconvert_exporter": "python",
   "pygments_lexer": "ipython3",
   "version": "3.13.7"
  }
 },
 "nbformat": 4,
 "nbformat_minor": 5
}
