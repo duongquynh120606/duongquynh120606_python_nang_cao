{
 "cells": [
  {
   "cell_type": "markdown",
   "id": "8dfa36e3",
   "metadata": {},
   "source": [
    "***Ví dụ 1.3.3.2*** "
   ]
  },
  {
   "cell_type": "code",
   "execution_count": 1,
   "id": "938a1bfd",
   "metadata": {},
   "outputs": [
    {
     "name": "stdout",
     "output_type": "stream",
     "text": [
      "Airplane is flying\n",
      "Superman is flying\n"
     ]
    }
   ],
   "source": [
    "class Airplane:\n",
    "    \"\"\"Một lớp đại diện cho máy bay\"\"\"\n",
    "    def fly(self):\n",
    "        print(\"Airplane is flying\")   # Phương thức fly() trong lớp Airplane\n",
    "\n",
    "\n",
    "class Superman:\n",
    "    \"\"\"Một lớp đại diện cho Superman\"\"\"\n",
    "    def fly(self):\n",
    "        print(\"Superman is flying\")   # Phương thức fly() trong lớp Superman\n",
    "\n",
    "\n",
    "def let_it_fly(obj):\n",
    "    \"\"\"Hàm chấp nhận bất kỳ đối tượng nào có phương thức fly()\"\"\"\n",
    "    obj.fly()\n",
    "\n",
    "\n",
    "# Gọi hàm với các đối tượng khác nhau\n",
    "let_it_fly(Airplane())   # Airplane is flying\n",
    "let_it_fly(Superman())   # Superman is flying\n"
   ]
  }
 ],
 "metadata": {
  "kernelspec": {
   "display_name": "Python 3",
   "language": "python",
   "name": "python3"
  },
  "language_info": {
   "codemirror_mode": {
    "name": "ipython",
    "version": 3
   },
   "file_extension": ".py",
   "mimetype": "text/x-python",
   "name": "python",
   "nbconvert_exporter": "python",
   "pygments_lexer": "ipython3",
   "version": "3.13.7"
  }
 },
 "nbformat": 4,
 "nbformat_minor": 5
}
