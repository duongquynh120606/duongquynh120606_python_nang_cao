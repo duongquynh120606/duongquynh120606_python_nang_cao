{
 "cells": [
  {
   "cell_type": "markdown",
   "id": "1376be07",
   "metadata": {},
   "source": [
    "***Ví dụ 1.2.2.1*** \n",
    "Minh họa đối tượng"
   ]
  },
  {
   "cell_type": "code",
   "execution_count": null,
   "id": "fb68338b",
   "metadata": {},
   "outputs": [
    {
     "name": "stdout",
     "output_type": "stream",
     "text": [
      "obj1 is a Dog\n",
      "obj2 is also a Dog\n",
      "Buddy is 5 years old\n",
      "Max is 3 years old\n"
     ]
    }
   ],
   "source": [
    "class Dog:\n",
    "    \"\"\"Đại diện một con chó với các thuộc tính cơ bản\"\"\"\n",
    "# Thuộc tính lớp\n",
    "DogCount = 0 # Số lượng đối tượng Dog\n",
    "species = 'Dog' # Loài chó\n",
    "# instance attribute\n",
    "def __init__(self, name, size, age, color):\n",
    "    self.name = name # Thuộc tính đối tượng\n",
    "    self.size = size # Thuộc tính đối tượng\n",
    "    self.age = age # Thuộc tính đối tượng\n",
    "    self.color = color # Thuộc tính đối tượng\n",
    "#instance của lớp Dog\n",
    "obj1 = Dog(\"Buddy\", \"Medium\", 5, \"Brown\") #Tạo đối tượng Dog đầu tiên\n",
    "obj2 = Dog(\"Max\", \"Small\", 3, \"Black\") #Tạo đối tượng Dog thứ hai\n",
    "#Truy cập thuộc tính lớp\n",
    "print(\"obj1 is a {}\".format(obj1.__class__.species)) #In ra loài chó\n",
    "print(\"obj2 is also a {}\".format(obj2.__class__.species)) #In ra loài chó\n",
    "#Truy cập thuộc tính của instance\n",
    "print(\"{} is {} years old\".format(obj1.name, obj1.age)) #In ra tên và tuổi của obj1\n",
    "print(\"{} is {} years old\".format(obj2.name, obj2.age)) #In ra tên và tuổi của obj2"
   ]
  }
 ],
 "metadata": {
  "kernelspec": {
   "display_name": "Python 3",
   "language": "python",
   "name": "python3"
  },
  "language_info": {
   "codemirror_mode": {
    "name": "ipython",
    "version": 3
   },
   "file_extension": ".py",
   "mimetype": "text/x-python",
   "name": "python",
   "nbconvert_exporter": "python",
   "pygments_lexer": "ipython3",
   "version": "3.13.7"
  }
 },
 "nbformat": 4,
 "nbformat_minor": 5
}
