{
 "cells": [
  {
   "cell_type": "markdown",
   "id": "5c49367d",
   "metadata": {},
   "source": [
    "***Ví dụ 1.3.4.1*** Lớp trừu tượng "
   ]
  },
  {
   "cell_type": "code",
   "execution_count": 16,
   "id": "dbc5a3ed",
   "metadata": {},
   "outputs": [
    {
     "name": "stdout",
     "output_type": "stream",
     "text": [
      "Whoooopp whooppp...\n",
      "Meooo meooo\n"
     ]
    }
   ],
   "source": [
    "from abc import ABC, abstractmethod\n",
    "# Tạo lớp trừu tượng 'Animal' với phương thức trừu tượng 'Say'\n",
    "class Animal(ABC):  # Lớp trừu tượng\n",
    "    @abstractmethod # Phương thức trừu tượng\n",
    "    def Say(self): # Phương thức trừu tượng\n",
    "        pass # Phương thức trừu tượng\n",
    "# Tạo lớp con 'Dog' kế thừa từ 'Animal'\n",
    "class Dog(Animal):# Lớp chó\n",
    "    def Say(self): # Phương thức kế thừa\n",
    "        print(\"Whoooopp whooppp...\") # Phương thức kế thừa\n",
    "# Tạo lớp con 'Cat' kế thừa từ 'Animal'\n",
    "class Cat(Animal): # Lớp mèo\n",
    "    def Say(self): # Phương thức kế thừa\n",
    "        print(\"Meooo meooo\") # Phương thức kế thừa\n",
    "# Định nghĩa một phương thức 'Jump' cho lớp 'Cat'\n",
    "    def Jump(self): # Phương thức riêng của lớp 'Cat'\n",
    "        print(\"I'm jumping up high\") # Phương thức riêng của lớp 'Cat'\n",
    "# Khởi tạo đối tượng từ lớp 'Dog'\n",
    "obj_dog = Dog() # Đối tượng chó\n",
    "# Gọi phương thức 'Say' của đối tượng 'obj_dog'\n",
    "obj_dog.Say() # Gọi phương thức của đối tượng chó\n",
    "# Khởi tạo đối tượng từ lớp 'Cat'\n",
    "obj_cat = Cat() # Đối tượng mèo\n",
    "# Gọi phương thức 'Say' của đối tượng 'obj_cat'\n",
    "obj_cat.Say() # Gọi phương thức của đối tượng mèo"
   ]
  }
 ],
 "metadata": {
  "kernelspec": {
   "display_name": "Python 3",
   "language": "python",
   "name": "python3"
  },
  "language_info": {
   "codemirror_mode": {
    "name": "ipython",
    "version": 3
   },
   "file_extension": ".py",
   "mimetype": "text/x-python",
   "name": "python",
   "nbconvert_exporter": "python",
   "pygments_lexer": "ipython3",
   "version": "3.13.7"
  }
 },
 "nbformat": 4,
 "nbformat_minor": 5
}
