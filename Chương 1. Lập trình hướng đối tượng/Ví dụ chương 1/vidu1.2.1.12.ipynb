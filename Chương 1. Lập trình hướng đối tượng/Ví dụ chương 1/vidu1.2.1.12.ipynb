{
 "cells": [
  {
   "cell_type": "markdown",
   "id": "ceb4debe",
   "metadata": {},
   "source": [
    "Ví dụ 1.2.1.12. Minh họa sử dụng thuộc tính tĩnh"
   ]
  },
  {
   "cell_type": "code",
   "execution_count": 1,
   "id": "4bfd4294",
   "metadata": {},
   "outputs": [
    {
     "name": "stdout",
     "output_type": "stream",
     "text": [
      "Number of dogs: 2\n"
     ]
    }
   ],
   "source": [
    "class Dog:\n",
    " #Thuộc tính của lớp – thuộc tính tĩnh DogCount\n",
    " DogCount = 0\n",
    " def __init__ (self, name, size, age, color): \n",
    "    self.name = name # Thuộc tính đối tượng\n",
    "    self.size = size # Thuộc tính đối tượng\n",
    "    self.age = age # Thuộc tính đối tượng\n",
    "    self.color = color # Thuộc tính đối tượng\n",
    "    Dog.DogCount = Dog.DogCount + 1 # Tăng số lượng đối tượng Dog\n",
    " def __del__ (self):\n",
    "    print(\"A dog object is being deleted.\") # Thông báo khi đối tượng bị xóa\n",
    "    Dog.DogCount=Dog.DogCount - 1 # Giảm số lượng đối tượng Dog\n",
    "obj1 = Dog(\"bull\", \"large\", 2, \"yellow\") # Tạo đối tượng Dog mới\n",
    "obj2 = Dog (\"Poodle\", \"small\", 1, \"white\") # Tạo đối tượng Dog mới\n",
    "print (\"Number of dogs: {}\".format(Dog.DogCount)) # In ra số lượng đối tượng Dog đã tạo"
   ]
  }
 ],
 "metadata": {
  "kernelspec": {
   "display_name": "Python 3",
   "language": "python",
   "name": "python3"
  },
  "language_info": {
   "codemirror_mode": {
    "name": "ipython",
    "version": 3
   },
   "file_extension": ".py",
   "mimetype": "text/x-python",
   "name": "python",
   "nbconvert_exporter": "python",
   "pygments_lexer": "ipython3",
   "version": "3.13.7"
  }
 },
 "nbformat": 4,
 "nbformat_minor": 5
}
