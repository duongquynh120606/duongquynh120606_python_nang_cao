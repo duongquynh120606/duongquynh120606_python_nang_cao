{
 "cells": [
  {
   "cell_type": "markdown",
   "id": "6f6f9f7c",
   "metadata": {},
   "source": [
    "#### ***Bài 8:*** \n",
    "Xây dựng lớp Employee để mô tả một nhân viên, gồm các thành phần: Họ tên, ngày sinh, ngày vào công ty, … Trong đó ngày sinh và ngày vào công ty của nhân viên có kiểu Date xây dựng ở bài trên.\n",
    "Viết một chương trình để quản lý nhân viên trong công ty."
   ]
  },
  {
   "cell_type": "code",
   "execution_count": null,
   "id": "b8141268",
   "metadata": {},
   "outputs": [],
   "source": [
    "# Cau8. Duong Van Quynh - DHKL18A1HN - 24174600058\n",
    "\n",
    "from datetime import date\n",
    "class Employee:\n",
    "    def __init__(self, full_name, birth_date, hire_date):\n",
    "        self.full_name = full_name\n",
    "        self.birth_date = birth_date\n",
    "        self.hire_date = hire_date\n",
    "\n",
    "    def get_age(self):\n",
    "        today = date.today()\n",
    "        age = today.year - self.birth_date.year\n",
    "        if (today.month, today.day) < (self.birth_date.month, self.birth_date.day):\n",
    "            age -= 1\n",
    "        return age\n",
    "\n",
    "    def get_years_of_service(self):\n",
    "        today = date.today()\n",
    "        years_of_service = today.year - self.hire_date.year\n",
    "        if (today.month, today.day) < (self.hire_date.month, self.hire_date.day):\n",
    "            years_of_service -= 1\n",
    "        return years_of_service\n",
    "\n",
    "# Sử dụng lớp Employee để quản lý nhân viên trong công ty\n",
    "# Tạo các đối tượng nhân viên mới\n",
    "employee1 = Employee(\"Nguyễn Văn A\", date(1990, 5, 15), date(2015, 10 ,1))\n",
    "employee2 = Employee(\"Nguyễn Thị B\", date(1985, 12 ,3), date(2010 ,7 ,15))\n",
    "\n",
    "# In thông tin của từng nhân viên và tuổi/tổng số năm làm việc của họ.\n",
    "print(f\"Nhân viên: {employee1.full_name}\")\n",
    "print(f\"Ngày sinh: {employee1.birth_date}\")\n",
    "print(f\"Tuổi: {employee1.get_age()}\")\n",
    "print(f\"Ngày vào công ty: {employee1.hire_date}\")\n",
    "print(f\"Tổng số năm làm việc: {employee1.get_years_of_service()}\")\n",
    "print(\"\\n\")\n",
    "print(f\"Nhân viên: {employee2.full_name}\")\n",
    "print(f\"Ngày sinh: {employee2.birth_date}\")\n",
    "print(f\"Tuổi: {employee2.get_age()}\")\n",
    "print(f\"Ngày vào công ty: {employee2.hire_date}\")\n",
    "print(f\"Tổng số năm làm việc: {employee2.get_years_of_service()}\")\n"
   ]
  }
 ],
 "metadata": {
  "language_info": {
   "name": "python"
  }
 },
 "nbformat": 4,
 "nbformat_minor": 5
}
