{
 "cells": [
  {
   "cell_type": "markdown",
   "id": "57f5014f",
   "metadata": {},
   "source": [
    "#### ***Bài 10:*** \n",
    "Xây dựng lớp điểm, lớp elip thừa kế từ lớp điểm, lớp đường tròn thừa kế từ lớp\n",
    "elip. Nhập vào các thuộc tính cần thiết của elip và tính diện tích."
   ]
  },
  {
   "cell_type": "code",
   "execution_count": 1,
   "id": "e76ac897",
   "metadata": {},
   "outputs": [
    {
     "name": "stdout",
     "output_type": "stream",
     "text": [
      "Diện tích của elip là: 47.12388980384689\n",
      "Diện tích của hình tròn là: 78.53981633974483\n"
     ]
    }
   ],
   "source": [
    "# Cau10. Duong Van Quynh - DHKL18A1HN - 24174600058\n",
    "\n",
    "import math\n",
    "class Point:\n",
    "    def __init__(self, x, y):\n",
    "        self.x = x\n",
    "        self.y = y\n",
    "\n",
    "class Ellipse(Point):\n",
    "    def __init__(self, x_center, y_center, a_axis_length, b_axis_length):\n",
    "        super().__init__(x_center, y_center)\n",
    "        self.a = a_axis_length\n",
    "        self.b = b_axis_length\n",
    "\n",
    "    def area(self):\n",
    "        return math.pi * self.a * self.b\n",
    "\n",
    "class Circle(Ellipse):\n",
    "    def __init__(self, x_center, y_center, radius):\n",
    "        super().__init__(x_center,y_center,radius,radius)\n",
    "\n",
    "\n",
    "elip = Ellipse(0, 0, 5, 3)\n",
    "# Tính diện tích của elip\n",
    "elip_area = elip.area()\n",
    "print(\"Diện tích của elip là:\", elip_area)\n",
    "\n",
    "\n",
    "circle = Circle(0, 0, 5)\n",
    "# Tính diện tích của hình tròn\n",
    "circle_area = circle.area()\n",
    "print(\"Diện tích của hình tròn là:\", circle_area)"
   ]
  }
 ],
 "metadata": {
  "kernelspec": {
   "display_name": "Python 3",
   "language": "python",
   "name": "python3"
  },
  "language_info": {
   "codemirror_mode": {
    "name": "ipython",
    "version": 3
   },
   "file_extension": ".py",
   "mimetype": "text/x-python",
   "name": "python",
   "nbconvert_exporter": "python",
   "pygments_lexer": "ipython3",
   "version": "3.13.7"
  }
 },
 "nbformat": 4,
 "nbformat_minor": 5
}
