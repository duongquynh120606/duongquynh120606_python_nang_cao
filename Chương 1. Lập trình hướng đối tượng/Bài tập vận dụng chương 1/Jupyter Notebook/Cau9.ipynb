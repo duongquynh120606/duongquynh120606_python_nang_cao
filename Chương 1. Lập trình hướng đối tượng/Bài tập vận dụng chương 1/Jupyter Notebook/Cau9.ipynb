{
 "cells": [
  {
   "cell_type": "markdown",
   "id": "6f04b9d5",
   "metadata": {},
   "source": [
    "#### ***Bài 9:*** \n",
    "Xây dựng lớp đa giác, hình bình hành kế thừa từ đa giác, hình chữ nhật kế từ hình\n",
    "bình hành và hình vuông thừa kế từ hình chữ nhật. Nhập vào các thuộc tính cần thiết của\n",
    "mỗi hình và tính chu vi, diện tích của hình đó."
   ]
  },
  {
   "cell_type": "code",
   "execution_count": null,
   "id": "8f254929",
   "metadata": {},
   "outputs": [],
   "source": [
    "# Cau9. Duong Van Quynh - DHKL18A1HN - 24174600058\n",
    "\n",
    "import math\n",
    "class Polygon:\n",
    "    def __init__(self, num_sides):\n",
    "        self.num_sides = num_sides\n",
    "        self.sides = []\n",
    "\n",
    "    def input_sides(self):\n",
    "        for i in range(self.num_sides):\n",
    "            side = float(input(f\"Enter length of side {i+1}: \"))\n",
    "            self.sides.append(side)\n",
    "\n",
    "    def perimeter(self):\n",
    "        return sum(self.sides)\n",
    "\n",
    "class Parallelogram(Polygon):\n",
    "    def __init__(self):\n",
    "        super().__init__(4) \n",
    "\n",
    "    def area(self):\n",
    "        base = self.sides[0]\n",
    "        height = float(input(\"Enter height: \"))\n",
    "        return base * height\n",
    "\n",
    "class Rectangle(Parallelogram):\n",
    "    def __init__(self):\n",
    "        super().__init__()\n",
    "\n",
    "class Square(Rectangle): \n",
    "    def __init__(self): \n",
    "      super().__init__() \n",
    "      \n",
    "square = Square()\n",
    "square.input_sides()\n",
    "\n",
    "perimeter_square = square.perimeter()\n",
    "area_square = square.area()\n",
    "\n",
    "print(f\"Perimeter of the square: {perimeter_square}\")\n",
    "print(f\"Area of the square: {area_square}\")"
   ]
  }
 ],
 "metadata": {
  "kernelspec": {
   "display_name": "Python 3",
   "language": "python",
   "name": "python3"
  },
  "language_info": {
   "codemirror_mode": {
    "name": "ipython",
    "version": 3
   },
   "file_extension": ".py",
   "mimetype": "text/x-python",
   "name": "python",
   "nbconvert_exporter": "python",
   "pygments_lexer": "ipython3",
   "version": "3.13.7"
  }
 },
 "nbformat": 4,
 "nbformat_minor": 5
}
