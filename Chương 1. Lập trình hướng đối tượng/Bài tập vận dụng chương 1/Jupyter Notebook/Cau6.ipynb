{
 "cells": [
  {
   "cell_type": "markdown",
   "id": "2fa35287",
   "metadata": {},
   "source": [
    "#### ***Bài 6:***\n",
    "Hiệu chỉnh lớp Stack bằng cách thêm vào hàm thành phần print để in nội dung của ngăn xếp."
   ]
  },
  {
   "cell_type": "code",
   "execution_count": null,
   "id": "4255f28a",
   "metadata": {},
   "outputs": [],
   "source": [
    "# Cau6. Duong Van Quynh - DHKL18A1HN - 24174600058\n",
    "\n",
    "\n",
    "class Stack:\n",
    "    def __init__(self):\n",
    "        self.stack = []\n",
    "\n",
    "    def push(self, item):\n",
    "        self.stack.append(item)\n",
    "\n",
    "    def pop(self):\n",
    "        if not self.is_empty():\n",
    "            return self.stack.pop()\n",
    "        else:\n",
    "            return None\n",
    "\n",
    "    def is_empty(self):\n",
    "        return len(self.stack) == 0\n",
    "\n",
    "    def size(self):\n",
    "        return len(self.stack)\n",
    "\n",
    "    def print(self):\n",
    "        for item in reversed(self.stack): \n",
    "            print(item)\n",
    "\n",
    "if __name__ == \"__main__\":\n",
    "    stack = Stack()\n",
    "    stack.push(10)\n",
    "    stack.push(20)\n",
    "    stack.push(30)\n",
    "    print(\"Stack contents (from top to bottom):\")\n",
    "    stack.print()\n",
    "    print(\"Stack size:\", stack.size())\n",
    "    print(\"Pop top element:\", stack.pop())\n",
    "    print(\"Stack size after pop:\", stack.size())\n",
    "    print(\"Is stack empty?\", stack.is_empty())"
   ]
  }
 ],
 "metadata": {
  "language_info": {
   "name": "python"
  }
 },
 "nbformat": 4,
 "nbformat_minor": 5
}
