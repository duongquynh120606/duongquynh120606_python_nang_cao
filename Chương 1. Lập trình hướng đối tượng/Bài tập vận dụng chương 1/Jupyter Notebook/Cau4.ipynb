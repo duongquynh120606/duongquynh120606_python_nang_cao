{
 "cells": [
  {
   "cell_type": "markdown",
   "id": "f022333e",
   "metadata": {},
   "source": [
    "#### ***Bài 4:***\n",
    " Xây dựng lớp ngăn xếp (Stack) gồm có:\n",
    "+ Dữ liệu là mảng float được cấp phát động.\n",
    "+ Hàm tạo, hàm huỷ và các phương thức push (đưa một phần tử vào ngăn xếp),\n",
    "pop (lấy một phần tử ra từ đỉnh ngăn xếp), isEmpty (kiểm tra ngăn xếp đã trống\n",
    "chưa), isFull (kiểm tra ngăn xếp đã đầy chưa)."
   ]
  },
  {
   "cell_type": "code",
   "execution_count": 1,
   "id": "1da45a18",
   "metadata": {},
   "outputs": [
    {
     "name": "stdout",
     "output_type": "stream",
     "text": [
      "Pushed 3.14 into the stack.\n",
      "Pushed 2.71 into the stack.\n",
      "Pushed 1.618 into the stack.\n",
      "1.618\n",
      "False\n",
      "2.71\n",
      "False\n"
     ]
    }
   ],
   "source": [
    "# Cau4. Duong Van Quynh - DHKL18A1HN - 24174600058\n",
    "\n",
    "class Stack:\n",
    "    def __init__(self, capacity):\n",
    "        self.capacity = capacity\n",
    "        self.stack = [None] * capacity\n",
    "        self.top = -1\n",
    "    def push(self, element):\n",
    "        if not self.isFull():\n",
    "            self.top += 1\n",
    "            self.stack[self.top] = element\n",
    "            print(f\"Pushed {element} into the stack.\")\n",
    "        else:\n",
    "            print(\"Stack is full. Cannot push element.\")\n",
    "    def pop(self):\n",
    "        if not self.isEmpty():\n",
    "            popped_element = self.stack[self.top]\n",
    "            self.stack[self.top] = None\n",
    "            self.top -= 1\n",
    "            return popped_element\n",
    "        else:\n",
    "            print(\"Stack is empty. Cannot pop element.\")\n",
    "    def isEmpty(self):\n",
    "        return True if (self.top == -1) else False   \n",
    "    def isFull(self):\n",
    "        return True if (self.top == (self.capacity - 1)) else False\n",
    "stack_capacity = 5 \n",
    "my_stack = Stack(stack_capacity)\n",
    "my_stack.push(3.14)\n",
    "my_stack.push(2.71)\n",
    "my_stack.push(1.618)\n",
    "print(my_stack.pop()) \n",
    "print(my_stack.isEmpty())\n",
    "print(my_stack.pop())\n",
    "print(my_stack.isFull())\n"
   ]
  }
 ],
 "metadata": {
  "kernelspec": {
   "display_name": "Python 3",
   "language": "python",
   "name": "python3"
  },
  "language_info": {
   "codemirror_mode": {
    "name": "ipython",
    "version": 3
   },
   "file_extension": ".py",
   "mimetype": "text/x-python",
   "name": "python",
   "nbconvert_exporter": "python",
   "pygments_lexer": "ipython3",
   "version": "3.13.7"
  }
 },
 "nbformat": 4,
 "nbformat_minor": 5
}
