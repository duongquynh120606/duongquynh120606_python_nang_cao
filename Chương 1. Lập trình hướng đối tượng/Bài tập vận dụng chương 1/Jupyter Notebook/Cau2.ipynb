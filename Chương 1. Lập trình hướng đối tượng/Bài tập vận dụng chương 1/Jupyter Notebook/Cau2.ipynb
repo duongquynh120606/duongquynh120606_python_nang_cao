{
 "cells": [
  {
   "cell_type": "markdown",
   "id": "0bfaa773",
   "metadata": {},
   "source": [
    "#### ***Bài 2:*** \n",
    "Để quản lý điểm thi vào một trường đại học, ta xây dựng lớp TS mô tả các thí sinh, bao gồm:\n",
    "+ Các thuộc tính: Họ tên thí sinh; điểm các môn Toán, Lý, Hoá.\n",
    "+ Các phương thức: Nhập thông tin thí sinh; In thông tin thí sinh; Tính tổng điểm của từng thí sinh.\n",
    "Trên cơ sở lớp trên, viết chương trình làm các công việc sau:\n",
    "+ Nhập họ tên và điểm của một danh sách thí sinh.\n",
    "+ Đưa ra màn hình danh sách thí sinh trúng tuyển (với giả thiết điểm chuẩn vào\n",
    "trường là 20) theo thứ tự điểm từ cao xuống thấp."
   ]
  },
  {
   "cell_type": "markdown",
   "id": "752ce8f3",
   "metadata": {},
   "source": []
  },
  {
   "cell_type": "code",
   "execution_count": 1,
   "id": "233d677e",
   "metadata": {},
   "outputs": [],
   "source": [
    "# Cau2. Duong Van Quynh - DHKL18A1HN - 24174600058\n",
    "\n",
    "class TS:\n",
    "    def __init__(self, hoten='', diem_toan=0, diem_ly=0, diem_hoa=0):\n",
    "        self.hoten = hoten\n",
    "        self.diem_toan = diem_toan\n",
    "        self.diem_ly = diem_ly\n",
    "        self.diem_hoa = diem_hoa\n",
    "    def nhap_thong_tin(self):\n",
    "        self.hoten = input(\"Nhập họ và tên thí sinh: \")\n",
    "        self.diem_toan = float(input(\"Nhập điểm Toán: \"))\n",
    "        self.diem_ly = float(input(\"Nhập điểm Lý: \"))\n",
    "        self.diem_hoa = float(input(\"Nhập điểm Hóa: \"))\n",
    "    def in_thong_tin(self):\n",
    "        print(\"Họ và tên:\", self.hoten)\n",
    "        print(\"Điểm Toán:\", self.diem_toan)\n",
    "        print(\"Điểm Lý:\", self.diem_ly)\n",
    "        print(\"Điểm Hóa:\", self.diem_hoa)\n",
    "    def tong_diem(self):\n",
    "        return self.diem_toan + self.diem_ly + self.diem_hoa"
   ]
  },
  {
   "cell_type": "code",
   "execution_count": 2,
   "id": "3ee03574",
   "metadata": {},
   "outputs": [
    {
     "ename": "ValueError",
     "evalue": "invalid literal for int() with base 10: ''",
     "output_type": "error",
     "traceback": [
      "\u001b[31m---------------------------------------------------------------------------\u001b[39m",
      "\u001b[31mValueError\u001b[39m                                Traceback (most recent call last)",
      "\u001b[36mCell\u001b[39m\u001b[36m \u001b[39m\u001b[32mIn[2]\u001b[39m\u001b[32m, line 2\u001b[39m\n\u001b[32m      1\u001b[39m \u001b[38;5;66;03m# Nhập danh sách thí sinh\u001b[39;00m\n\u001b[32m----> \u001b[39m\u001b[32m2\u001b[39m n = \u001b[38;5;28;43mint\u001b[39;49m\u001b[43m(\u001b[49m\u001b[38;5;28;43minput\u001b[39;49m\u001b[43m(\u001b[49m\u001b[33;43m\"\u001b[39;49m\u001b[33;43mNhập số lượng thí sinh: \u001b[39;49m\u001b[33;43m\"\u001b[39;49m\u001b[43m)\u001b[49m\u001b[43m)\u001b[49m\n\u001b[32m      3\u001b[39m ds_ts = [TS() \u001b[38;5;28;01mfor\u001b[39;00m _ \u001b[38;5;129;01min\u001b[39;00m \u001b[38;5;28mrange\u001b[39m(n)]\n\u001b[32m      4\u001b[39m \u001b[38;5;28;01mfor\u001b[39;00m ts \u001b[38;5;129;01min\u001b[39;00m ds_ts:\n",
      "\u001b[31mValueError\u001b[39m: invalid literal for int() with base 10: ''"
     ]
    }
   ],
   "source": [
    "# Nhập danh sách thí sinh\n",
    "n = int(input(\"Nhập số lượng thí sinh: \"))\n",
    "ds_ts = [TS() for _ in range(n)]\n",
    "for ts in ds_ts:\n",
    "    ts.nhap_thong_tin()\n",
    "    tong_diem = ts.tong_diem() \n",
    "print(\"Tổng điểm của thí sinh:\", tong_diem)\n",
    "# Sắp xếp danh sách thí sinh theo tổng điểm từ cao xuống thấp\n",
    "ds_ts_trung_tuyen = sorted(ds_ts, key=lambda x: x.tong_diem(), reverse=True)\n",
    "# In danh sách thí sinh trúng tuyển\n",
    "print(\"Danh sách thí sinh trúng tuyển gồm:\")\n",
    "for ts in ds_ts_trung_tuyen:\n",
    "    if ts.tong_diem() >= 20:\n",
    "        ts.in_thong_tin()"
   ]
  }
 ],
 "metadata": {
  "kernelspec": {
   "display_name": "Python 3",
   "language": "python",
   "name": "python3"
  },
  "language_info": {
   "codemirror_mode": {
    "name": "ipython",
    "version": 3
   },
   "file_extension": ".py",
   "mimetype": "text/x-python",
   "name": "python",
   "nbconvert_exporter": "python",
   "pygments_lexer": "ipython3",
   "version": "3.13.7"
  }
 },
 "nbformat": 4,
 "nbformat_minor": 5
}
