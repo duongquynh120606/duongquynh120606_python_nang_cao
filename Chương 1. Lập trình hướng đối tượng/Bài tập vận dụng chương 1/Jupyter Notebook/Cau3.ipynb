{
 "cells": [
  {
   "cell_type": "markdown",
   "id": "354bc788",
   "metadata": {},
   "source": [
    "#### ***Bài 3.***\n",
    " Xây dựng lớp phân số PS gồm:\n",
    "+ Các thuộc tính: tử số và mẫu số.\n",
    "+ Các phương thức: Kiểm tra tính hợp lệ của phân số; Nhập phân số; In phân số ra\n",
    "màn hình."
   ]
  },
  {
   "cell_type": "code",
   "execution_count": null,
   "id": "914b1c23",
   "metadata": {},
   "outputs": [],
   "source": [
    "# Cau3. Duong Van Quynh - DHKL18A1HN - 24174600058\n",
    "\n",
    "class PS:\n",
    "    def __init__(self, tuso=0, mauso=1):\n",
    "        self.tuso = tuso\n",
    "        self.mauso = mauso\n",
    "    def nhap_phan_so(self):\n",
    "        self.tuso = int(input(\"Nhập tử số: \"))\n",
    "        self.mauso = int(input(\"Nhập mẫu số (khác 0): \"))\n",
    "    def kiem_tra_hop_le(self):\n",
    "        return self.mauso != 0\n",
    "    def in_phan_so(self):\n",
    "        print(f\"Phân số là: {self.tuso}/{self.mauso}\")\n",
    "ps = PS()\n",
    "# Nhập phân số\n",
    "ps.nhap_phan_so()\n",
    "# In phân số ra màn hình\n",
    "ps.in_phan_so()\n",
    "# Kiểm tra tính hợp lệ của phân số\n",
    "if ps.kiem_tra_hop_le():\n",
    "    print(\"Phân số hợp lệ.\")\n",
    "else:\n",
    "    print(\"Phân số không hợp lệ.\")"
   ]
  }
 ],
 "metadata": {
  "language_info": {
   "name": "python"
  }
 },
 "nbformat": 4,
 "nbformat_minor": 5
}
