{
 "cells": [
  {
   "cell_type": "markdown",
   "id": "6bc5b9d9",
   "metadata": {},
   "source": [
    "#### ***Bài 1:*** \n",
    "Viết một lớp biểu diễn hình chữ nhật với các thuộc tính là độ dài hai cạnh và có các phương thức: Nhập dữ liệu hai cạnh cho hình chữ nhật; Tính chu vi hình chữ nhật; Tính diện tích hình chữ nhật; In thông tin hình chữ nhật (gồm độ dài hai cạnh, chu vi, diện tích) ra màn hình. Trên cơ sở lớp trên viết chương trình cho phép người dùng nhập dữ liệu của mộthình chữ nhật,sau đó in thông tin của nó ra màn hình"
   ]
  },
  {
   "cell_type": "markdown",
   "id": "68d38944",
   "metadata": {},
   "source": []
  },
  {
   "cell_type": "code",
   "execution_count": 1,
   "id": "0ba629ff",
   "metadata": {},
   "outputs": [
    {
     "name": "stdout",
     "output_type": "stream",
     "text": [
      "Độ dài 2 cạnh của hình chữ nhật lần lượt là:  8 4\n",
      "Diện tích của hình chữ nhật là: 32\n",
      "Chu vi của hình chữ nhật là: 24\n"
     ]
    }
   ],
   "source": [
    "# Cau1. Duong Van Quynh - DHKL18A1HN - 24174600058\n",
    "\n",
    "class Hinh_Chu_Nhat:\n",
    "    def __init__(self, length, width):\n",
    "        self.length = length\n",
    "        self.width = width\n",
    "    def dien_tich_hcn(self):\n",
    "        return self.length * self.width\n",
    "    def chu_vi_hcn(self):\n",
    "        return 2 * (self.length + self.width)\n",
    "Hinh_Chu_Nhat = Hinh_Chu_Nhat(8, 4) \n",
    "dientich = Hinh_Chu_Nhat.dien_tich_hcn()  \n",
    "chuvi = Hinh_Chu_Nhat.chu_vi_hcn() \n",
    "print(\"Độ dài 2 cạnh của hình chữ nhật lần lượt là: \", Hinh_Chu_Nhat.length, Hinh_Chu_Nhat.width)\n",
    "print(\"Diện tích của hình chữ nhật là:\", dientich)\n",
    "print(\"Chu vi của hình chữ nhật là:\", chuvi)"
   ]
  }
 ],
 "metadata": {
  "kernelspec": {
   "display_name": "Python 3",
   "language": "python",
   "name": "python3"
  },
  "language_info": {
   "codemirror_mode": {
    "name": "ipython",
    "version": 3
   },
   "file_extension": ".py",
   "mimetype": "text/x-python",
   "name": "python",
   "nbconvert_exporter": "python",
   "pygments_lexer": "ipython3",
   "version": "3.13.7"
  }
 },
 "nbformat": 4,
 "nbformat_minor": 5
}
