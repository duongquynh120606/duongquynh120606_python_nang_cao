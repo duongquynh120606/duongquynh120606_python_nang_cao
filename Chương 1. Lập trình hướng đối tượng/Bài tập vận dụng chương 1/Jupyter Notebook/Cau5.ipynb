{
 "cells": [
  {
   "cell_type": "markdown",
   "id": "6f3d1a69",
   "metadata": {},
   "source": [
    "#### ***Bài 5:*** \n",
    "Hiệu chỉnh lớp Stack bằng cách thêm vào hàm thành phần count để trả về số phần tử trên ngăn xếp."
   ]
  },
  {
   "cell_type": "code",
   "execution_count": 1,
   "id": "e708ae6b",
   "metadata": {},
   "outputs": [
    {
     "name": "stdout",
     "output_type": "stream",
     "text": [
      "3\n"
     ]
    }
   ],
   "source": [
    "# Cau5. Duong Van Quynh - DHKL18A1HN - 24174600058\n",
    "\n",
    "\n",
    "class Stack:\n",
    "    def __init__(self):\n",
    "        self.stack = []\n",
    "    def push(self, item):\n",
    "        self.stack.append(item)\n",
    "    def pop(self):\n",
    "        if not self.is_empty():\n",
    "            return self.stack.pop()\n",
    "        else:\n",
    "            return None\n",
    "    def peek(self):\n",
    "        if not self.is_empty():\n",
    "            return self.stack[-1]\n",
    "        else:\n",
    "            return None\n",
    "    def is_empty(self):\n",
    "        return len(self.stack) == 0\n",
    "    def size(self):\n",
    "        return len(self.stack)\n",
    "stack = Stack()\n",
    "stack.push(1)\n",
    "stack.push(2)\n",
    "stack.push(3)\n",
    "print(stack.size())\n",
    "\n",
    "\n",
    "\n"
   ]
  }
 ],
 "metadata": {
  "kernelspec": {
   "display_name": "Python 3",
   "language": "python",
   "name": "python3"
  },
  "language_info": {
   "codemirror_mode": {
    "name": "ipython",
    "version": 3
   },
   "file_extension": ".py",
   "mimetype": "text/x-python",
   "name": "python",
   "nbconvert_exporter": "python",
   "pygments_lexer": "ipython3",
   "version": "3.13.7"
  }
 },
 "nbformat": 4,
 "nbformat_minor": 5
}
