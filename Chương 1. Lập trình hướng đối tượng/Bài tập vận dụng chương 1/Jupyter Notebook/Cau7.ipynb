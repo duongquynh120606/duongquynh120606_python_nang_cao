{
 "cells": [
  {
   "cell_type": "markdown",
   "id": "17b261ab",
   "metadata": {},
   "source": [
    "#### ***Bài 7:*** \n",
    "Xây dựng lớp Date mô tả thông tin về ngày, tháng, năm. Lớp Date gồm: Hàm tạo với ba ñối có giá trị mặc định, phương thức display để in thông tin về ngày ra màn hình và phương thức next để tính ngày tiếp theo."
   ]
  },
  {
   "cell_type": "code",
   "execution_count": null,
   "id": "6d8d412f",
   "metadata": {},
   "outputs": [],
   "source": [
    "# Cau7. Duong Van Quynh - DHKL18A1HN - 24174600058\n",
    "\n",
    "class Date:\n",
    "    def __init__(self, ngay=1, thang=1, nam=1900):\n",
    "        self.ngay = ngay\n",
    "        self.thang = thang\n",
    "        self.nam = nam\n",
    "\n",
    "    def display(self):\n",
    "        print(f\"Ngày: {self.ngay}/{self.thang}/{self.nam}\")\n",
    "\n",
    "    def next(self):\n",
    "        import datetime\n",
    "        current_date = datetime.date(self.nam, self.thang, self.ngay)\n",
    "        next_date = current_date + datetime.timedelta(days=1)\n",
    "        self.ngay = next_date.day\n",
    "        self.thang = next_date.month\n",
    "        self.nam = next_date.year\n",
    "\n",
    "# Tạo 1 data ngày\n",
    "ngay = Date(6, 10, 2025)\n",
    "\n",
    "# In thông tin về ngày\n",
    "ngay.display()\n",
    "\n",
    "# Tính ngày tiếp theo và in kết quả\n",
    "ngay.next()\n",
    "ngay.display()"
   ]
  }
 ],
 "metadata": {
  "language_info": {
   "name": "python"
  }
 },
 "nbformat": 4,
 "nbformat_minor": 5
}
